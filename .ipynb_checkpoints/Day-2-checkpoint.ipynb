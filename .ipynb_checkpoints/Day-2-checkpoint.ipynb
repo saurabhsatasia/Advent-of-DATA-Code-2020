{
 "cells": [
  {
   "cell_type": "markdown",
   "metadata": {},
   "source": [
    "### Day-2\n",
    "\n",
    "#### Missing data is an everyday problem that data scientists need to deal with. Write a function called replace_nans(array) that takes as input a NumPy array and returns it after replacing all np.nan (numpy.nan) values with -1."
   ]
  },
  {
   "cell_type": "code",
   "execution_count": 5,
   "metadata": {},
   "outputs": [],
   "source": [
    "import re\n",
    "import numpy as np\n",
    "import datetime\n",
    "import numpy as np\n",
    "\n",
    "    \n",
    "def check_funcion(fun):\n",
    "    test_list = [np.array([1, np.nan, 2, 3, 4]), np.array([1]), np.array([np.nan])]\n",
    "    NoneType = type(None)\n",
    "    if isinstance(fun(test_list[1]), NoneType):\n",
    "        return \"You return 'None', try again!\"\n",
    "    elif isinstance(fun(test_list[1]), type(np.array([]))):\n",
    "        outputs = [np.array([1, -1, 2, 3, 4]), np.array([1]), np.array(-1)]\n",
    "        results = []\n",
    "        for i in range(len(test_list)):\n",
    "            outp_func = fun(test_list[i])\n",
    "            comparison = (outp_func == outputs[i])\n",
    "            results.append(comparison.all())\n",
    "        if all(results):\n",
    "             return \"Congrats, you passed the task! Submit it and see you tomorrow!\"\n",
    "        else:\n",
    "            return \"Try again, something is still not OK!\"\n",
    "    else:\n",
    "        return \"You should return a Numpy array!\"\n",
    "\n"
   ]
  },
  {
   "cell_type": "code",
   "execution_count": 8,
   "metadata": {},
   "outputs": [
    {
     "name": "stdout",
     "output_type": "stream",
     "text": [
      "Congrats, you passed the task! Submit it and see you tomorrow!\n",
      "\n",
      " [ 1. -1.  2.  3.  4.]\n"
     ]
    }
   ],
   "source": [
    "# from test_your_code import check_funcion\n",
    "import numpy as np\n",
    "\n",
    "def replace_nans(array):\n",
    "  # YOUR CODE GOES HERE\n",
    "    array[np.isnan(array)] = -1\n",
    "    return array\n",
    "  \n",
    "print(check_funcion(replace_nans))\n",
    "print('\\n',replace_nans(np.array([1, np.nan, 2, 3, 4])))"
   ]
  },
  {
   "cell_type": "code",
   "execution_count": null,
   "metadata": {},
   "outputs": [],
   "source": []
  }
 ],
 "metadata": {
  "kernelspec": {
   "display_name": "Python 3",
   "language": "python",
   "name": "python3"
  },
  "language_info": {
   "codemirror_mode": {
    "name": "ipython",
    "version": 3
   },
   "file_extension": ".py",
   "mimetype": "text/x-python",
   "name": "python",
   "nbconvert_exporter": "python",
   "pygments_lexer": "ipython3",
   "version": "3.7.6"
  }
 },
 "nbformat": 4,
 "nbformat_minor": 4
}
