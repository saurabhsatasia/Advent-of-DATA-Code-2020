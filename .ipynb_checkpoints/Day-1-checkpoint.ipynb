{
 "cells": [
  {
   "cell_type": "markdown",
   "metadata": {},
   "source": [
    "### Day-1\n",
    "\n",
    "#### Write a function called generate_arr(start, end) that takes as input two integers start, end and returns a NumPy array (1 dimensional) containing all integers between those values including start and end. If you are not a beginner, provide a one-line solution here :) Note that you can test your function using check_funcion()."
   ]
  },
  {
   "cell_type": "code",
   "execution_count": null,
   "metadata": {},
   "outputs": [],
   "source": []
  },
  {
   "cell_type": "code",
   "execution_count": 1,
   "metadata": {},
   "outputs": [],
   "source": [
    "import re\n",
    "import numpy as np\n",
    "import datetime\n",
    "import numpy as np\n",
    "\n",
    "    \n",
    "def check_funcion(fun):\n",
    "    NoneType = type(None)\n",
    "    if isinstance(fun(0,1), NoneType):\n",
    "        return \"You return 'None', try again!\"\n",
    "    test_list = [(2,21), (7,39)]\n",
    "    results = [True, True]\n",
    "    outputs = [[2, 3, 4, 5, 6, 7, 8, 9, 10, 11, 12, 13, 14, 15, 16, 17, 18, 19, 20, 21], \n",
    "    [7, 8, 9, 10, 11, 12, 13, 14, 15, 16, 17, 18, 19, 20, 21, 22, 23, 24, 25, 26, 27, 28, 29, 30, 31, 32, 33, 34, 35, 36, 37, 38, 39]]\n",
    "    correct_types = []\n",
    "    for i in range(len(test_list)):\n",
    "        outp_func = fun(test_list[i][0], test_list[i][1])\n",
    "    for j in range(len(outp_func)-1):\n",
    "        if outp_func[j] != outputs[i][j]:\n",
    "            results[i] = False\n",
    "    correct_types.append(type(outp_func)==np.ndarray)\n",
    "    if len(results)>0 and all(results) and all(correct_types):\n",
    "        return \"Congrats, you passed the task! See you tomorrow!\"\n",
    "    elif len(results)>0 and all(results):\n",
    "        return \"You return a list instead of numpy.array\"\n",
    "    else:\n",
    "        return \"Try again, something is still not OK!\"\n"
   ]
  },
  {
   "cell_type": "code",
   "execution_count": 12,
   "metadata": {},
   "outputs": [
    {
     "name": "stdout",
     "output_type": "stream",
     "text": [
      "Congrats, you passed the task! See you tomorrow!\n",
      "[ 0  1  2  3  4  5  6  7  8  9 10 11 12 13 14 15 16 17 18 19 20 21 22 23\n",
      " 24 25 26 27 28 29 30 31 32 33 34 35 36 37 38 39 40 41 42 43 44 45 46 47\n",
      " 48 49 50 51 52 53 54 55 56 57 58 59 60 61 62 63 64 65 66 67 68 69 70 71\n",
      " 72 73 74 75 76 77 78 79 80 81 82 83 84 85 86 87 88 89 90 91 92 93 94 95\n",
      " 96 97 98 99]\n"
     ]
    }
   ],
   "source": [
    "# from test_your_code import check_funcion\n",
    "import numpy as np\n",
    "\n",
    "def generate_arr(start, end):\n",
    "    # YOUR CODE GOES HERE\n",
    "    arr = np.arange(start, end)\n",
    "    return arr\n",
    "  \n",
    "print(check_funcion(generate_arr))\n",
    "print(generate_arr(0,100))"
   ]
  },
  {
   "cell_type": "code",
   "execution_count": null,
   "metadata": {},
   "outputs": [],
   "source": []
  }
 ],
 "metadata": {
  "kernelspec": {
   "display_name": "Python 3",
   "language": "python",
   "name": "python3"
  },
  "language_info": {
   "codemirror_mode": {
    "name": "ipython",
    "version": 3
   },
   "file_extension": ".py",
   "mimetype": "text/x-python",
   "name": "python",
   "nbconvert_exporter": "python",
   "pygments_lexer": "ipython3",
   "version": "3.7.6"
  }
 },
 "nbformat": 4,
 "nbformat_minor": 4
}
