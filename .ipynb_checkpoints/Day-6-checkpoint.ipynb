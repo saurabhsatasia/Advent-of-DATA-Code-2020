{
 "cells": [
  {
   "cell_type": "code",
   "execution_count": null,
   "metadata": {},
   "outputs": [],
   "source": []
  },
  {
   "cell_type": "code",
   "execution_count": 1,
   "metadata": {},
   "outputs": [],
   "source": [
    "import re\n",
    "import numpy as np\n",
    "import datetime\n",
    "import numpy as np\n",
    "\n",
    "    \n",
    "def check_funcion(fun):\n",
    "    test_list = [3, 6, 10]\n",
    "    NoneType = type(None)\n",
    "    if isinstance(fun(test_list[1]), NoneType):\n",
    "        return \"You return 'None', try again!\"\n",
    "    else:\n",
    "        results = []\n",
    "    for i in range(len(test_list)):\n",
    "        ch = fun(test_list[i])\n",
    "        if np.all((ch == 1) + (ch == 0)) and np.all(np.sum(ch, 1) == np.arange(start=1, stop=test_list[i]+1)) and np.all(np.sum(ch, 0) == np.arange(start=test_list[i]+1, stop=1)):\n",
    "            results.append(True)\n",
    "    if all(results):\n",
    "        return \"Congrats, you passed the task! Submit it and see you tomorrow!\"\n",
    "    else:\n",
    "        return \"Try again, something is still not OK!\"\n",
    "\n"
   ]
  },
  {
   "cell_type": "code",
   "execution_count": 7,
   "metadata": {},
   "outputs": [
    {
     "name": "stdout",
     "output_type": "stream",
     "text": [
      "Congrats, you passed the task! Submit it and see you tomorrow!\n",
      "\n",
      " [[1. 0. 0. 0. 0. 0.]\n",
      " [1. 1. 0. 0. 0. 0.]\n",
      " [1. 1. 1. 0. 0. 0.]\n",
      " [1. 1. 1. 1. 0. 0.]\n",
      " [1. 1. 1. 1. 1. 0.]\n",
      " [1. 1. 1. 1. 1. 1.]]\n"
     ]
    },
    {
     "name": "stderr",
     "output_type": "stream",
     "text": [
      "C:\\Users\\Saurabh\\anaconda3\\lib\\site-packages\\ipykernel_launcher.py:16: DeprecationWarning: elementwise comparison failed; this will raise an error in the future.\n",
      "  app.launch_new_instance()\n"
     ]
    }
   ],
   "source": [
    "# from test_your_code import check_funcion\n",
    "import numpy as np\n",
    "\n",
    "def half_xmas_tree(depth):\n",
    "  # YOUR CODE GOES HERE\n",
    "    x = np.ones((6,6))\n",
    "    y = np.tril(x,k=0)\n",
    "  # print(y)\n",
    "    return y\n",
    "\n",
    "print(check_funcion(half_xmas_tree))\n",
    "print('\\n',half_xmas_tree(6))"
   ]
  },
  {
   "cell_type": "code",
   "execution_count": null,
   "metadata": {},
   "outputs": [],
   "source": []
  }
 ],
 "metadata": {
  "kernelspec": {
   "display_name": "Python 3",
   "language": "python",
   "name": "python3"
  },
  "language_info": {
   "codemirror_mode": {
    "name": "ipython",
    "version": 3
   },
   "file_extension": ".py",
   "mimetype": "text/x-python",
   "name": "python",
   "nbconvert_exporter": "python",
   "pygments_lexer": "ipython3",
   "version": "3.7.6"
  }
 },
 "nbformat": 4,
 "nbformat_minor": 4
}
