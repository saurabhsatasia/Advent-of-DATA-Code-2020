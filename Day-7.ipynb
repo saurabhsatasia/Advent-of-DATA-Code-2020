{
 "cells": [
  {
   "cell_type": "code",
   "execution_count": null,
   "metadata": {},
   "outputs": [],
   "source": []
  },
  {
   "cell_type": "code",
   "execution_count": 13,
   "metadata": {},
   "outputs": [],
   "source": [
    "import re\n",
    "import numpy as np\n",
    "import datetime\n",
    "import numpy as np\n",
    "\n",
    "    \n",
    "def check_funcion(fun):\n",
    "    test_list = [np.array([1,2,3,4]), np.ones(100), np.array([1,1,1,7])]\n",
    "    NoneType = type(None)\n",
    "    if isinstance(fun(test_list[1]), NoneType):\n",
    "        return \"You return 'None', try again!\"\n",
    "    else:\n",
    "        outputs = [2.5, 1.0, 42/12]\n",
    "        results = []\n",
    "    for i in range(len(test_list)):\n",
    "        outp_func = fun(test_list[i])\n",
    "        results.append(outp_func == outputs[i])\n",
    "    if all(results):\n",
    "        return \"Congrats, you passed the task! Submit it and see you tomorrow!\"\n",
    "    else:\n",
    "        return \"Try again, something is still not OK!\""
   ]
  },
  {
   "cell_type": "code",
   "execution_count": 16,
   "metadata": {},
   "outputs": [
    {
     "name": "stdout",
     "output_type": "stream",
     "text": [
      "Congrats, you passed the task! Submit it and see you tomorrow!\n",
      "2.5\n"
     ]
    }
   ],
   "source": [
    "# from test_your_code import check_funcion\n",
    "import numpy as np\n",
    "\n",
    "def weighted_average(arr):\n",
    "  # YOUR CODE GOES HERE\n",
    "    arr.flatten\n",
    "    weights = np.ones(arr.size)\n",
    "    i = 0\n",
    "    while i<weights.size:\n",
    "        if i == 0 or i == weights.size-1:\n",
    "            weights[i] = weights[i]*5\n",
    "        else:\n",
    "            pass    \n",
    "        i+=1\n",
    "    return np.average(arr, weights=weights)\n",
    "\n",
    "print(check_funcion(weighted_average))\n",
    "print(weighted_average(np.array([1,2,3,4])))"
   ]
  }
 ],
 "metadata": {
  "kernelspec": {
   "display_name": "Python 3",
   "language": "python",
   "name": "python3"
  },
  "language_info": {
   "codemirror_mode": {
    "name": "ipython",
    "version": 3
   },
   "file_extension": ".py",
   "mimetype": "text/x-python",
   "name": "python",
   "nbconvert_exporter": "python",
   "pygments_lexer": "ipython3",
   "version": "3.7.6"
  }
 },
 "nbformat": 4,
 "nbformat_minor": 4
}
