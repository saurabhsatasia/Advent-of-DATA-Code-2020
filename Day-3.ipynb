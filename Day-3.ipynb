{
 "cells": [
  {
   "cell_type": "markdown",
   "metadata": {},
   "source": [
    "### Day-3\n",
    "#### Write a funtion called generate_matrix_9x9() that generates a 9x9 matrix with all elements equal 2 except the one in the middle which should be equal 0. If you are not a beginner, set only the boundary entries to 2 and the remaining ones to 0 :)\n",
    "\n"
   ]
  },
  {
   "cell_type": "code",
   "execution_count": 4,
   "metadata": {},
   "outputs": [],
   "source": [
    "import re\n",
    "import numpy as np\n",
    "import datetime\n",
    "import numpy as np\n",
    "\n",
    "    \n",
    "def check_funcion(fun):\n",
    "    NoneType = type(None)\n",
    "    if isinstance(fun(), NoneType):\n",
    "        return \"You return 'None', try again!\"\n",
    "    elif isinstance(fun(), type(np.array([]))):\n",
    "        a = fun()\n",
    "        results = []\n",
    "        for i in range(len(a)):\n",
    "            results.append(a[i][0]==2)\n",
    "            results.append(a[8][0]==2)\n",
    "            if i==0 or i==8:\n",
    "                results.append(np.sum(a[i])==9*2)\n",
    "            elif i==4:\n",
    "                results.append(np.sum(a[i])==8*2 or np.sum(a[i])==4)\n",
    "            else:\n",
    "                results.append(np.sum(a[i])==9*2 or np.sum(a[i])==4)\n",
    "        if all(results):\n",
    "            return \"Congrats, you passed the task! Submit it and see you tomorrow!\"\n",
    "        else:\n",
    "            return \"Try again, something is still not OK!\"\n",
    "    else:\n",
    "        return \"You should return a Numpy array!\""
   ]
  },
  {
   "cell_type": "code",
   "execution_count": 7,
   "metadata": {},
   "outputs": [
    {
     "name": "stdout",
     "output_type": "stream",
     "text": [
      "Congrats, you passed the task! Submit it and see you tomorrow!\n",
      "[[2. 2. 2. 2. 2. 2. 2. 2. 2.]\n",
      " [2. 2. 2. 2. 2. 2. 2. 2. 2.]\n",
      " [2. 2. 2. 2. 2. 2. 2. 2. 2.]\n",
      " [2. 2. 2. 2. 2. 2. 2. 2. 2.]\n",
      " [2. 2. 2. 2. 0. 2. 2. 2. 2.]\n",
      " [2. 2. 2. 2. 2. 2. 2. 2. 2.]\n",
      " [2. 2. 2. 2. 2. 2. 2. 2. 2.]\n",
      " [2. 2. 2. 2. 2. 2. 2. 2. 2.]\n",
      " [2. 2. 2. 2. 2. 2. 2. 2. 2.]]\n"
     ]
    }
   ],
   "source": [
    "# from test_your_code import check_funcion\n",
    "import numpy as np\n",
    "\n",
    "def generate_matrix_9x9():\n",
    "  # YOUR CODE GOES HERE\n",
    "    arr = np.zeros(shape=(1,1))\n",
    "    arr = np.pad(arr, pad_width=4, mode='constant', constant_values=2)\n",
    "    return arr\n",
    "\n",
    "print(check_funcion(generate_matrix_9x9))\n",
    "print(generate_matrix_9x9())"
   ]
  },
  {
   "cell_type": "code",
   "execution_count": null,
   "metadata": {},
   "outputs": [],
   "source": []
  }
 ],
 "metadata": {
  "kernelspec": {
   "display_name": "Python 3",
   "language": "python",
   "name": "python3"
  },
  "language_info": {
   "codemirror_mode": {
    "name": "ipython",
    "version": 3
   },
   "file_extension": ".py",
   "mimetype": "text/x-python",
   "name": "python",
   "nbconvert_exporter": "python",
   "pygments_lexer": "ipython3",
   "version": "3.7.6"
  }
 },
 "nbformat": 4,
 "nbformat_minor": 4
}
