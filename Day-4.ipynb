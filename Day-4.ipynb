{
 "cells": [
  {
   "cell_type": "markdown",
   "metadata": {},
   "source": [
    "### Day-3\n",
    "\n",
    "#### Write a funtion called get_elements(arr) that returns the median of all the elements of the input array which are greater than 2. If you are able to, make sure that this function works well even if one of the elements is numpy.nan :)"
   ]
  },
  {
   "cell_type": "code",
   "execution_count": 2,
   "metadata": {},
   "outputs": [],
   "source": [
    "import re\n",
    "import numpy as np\n",
    "import datetime\n",
    "import numpy as np\n",
    "\n",
    "    \n",
    "def check_funcion(fun):\n",
    "    test_list = [np.array([[1, 2, 3], [4, 5, 6]]) , np.array([4,4,4,4,5])]\n",
    "    NoneType = type(None)\n",
    "    if isinstance(fun(test_list[1]), NoneType):\n",
    "        return \"You return 'None', try again!\"\n",
    "    else:\n",
    "        outputs = [4.5, 4]\n",
    "        results = []\n",
    "        for i in range(len(test_list)):\n",
    "            outp_func = fun(test_list[i])\n",
    "            comparison = (outp_func == outputs[i])\n",
    "            results.append(comparison.all())\n",
    "        if all(results):\n",
    "            return \"Congrats, you passed the task! Submit it and see you tomorrow!\"\n",
    "        else:\n",
    "            return \"Try again, something is still not OK!\"\n"
   ]
  },
  {
   "cell_type": "code",
   "execution_count": 6,
   "metadata": {},
   "outputs": [
    {
     "name": "stdout",
     "output_type": "stream",
     "text": [
      "Congrats, you passed the task! Submit it and see you tomorrow!\n",
      "4.5\n"
     ]
    }
   ],
   "source": [
    "# from test_your_code import check_funcion\n",
    "import numpy as np\n",
    "\n",
    "def get_elements(arr):\n",
    "  # YOUR CODE GOES HERE\n",
    "    nan_median = np.nanmedian(arr[arr>2])\n",
    "    return nan_median\n",
    "\n",
    "print(check_funcion(get_elements))\n",
    "print(get_elements(np.array([[1, 2, 3], [4, 5, 6]])))"
   ]
  },
  {
   "cell_type": "code",
   "execution_count": null,
   "metadata": {},
   "outputs": [],
   "source": []
  }
 ],
 "metadata": {
  "kernelspec": {
   "display_name": "Python 3",
   "language": "python",
   "name": "python3"
  },
  "language_info": {
   "codemirror_mode": {
    "name": "ipython",
    "version": 3
   },
   "file_extension": ".py",
   "mimetype": "text/x-python",
   "name": "python",
   "nbconvert_exporter": "python",
   "pygments_lexer": "ipython3",
   "version": "3.7.6"
  }
 },
 "nbformat": 4,
 "nbformat_minor": 4
}
