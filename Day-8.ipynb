{
 "cells": [
  {
   "cell_type": "markdown",
   "metadata": {},
   "source": [
    "### Day-8\n",
    "\n",
    "#### Data Scientists sometimes implement their own sophisticated metrics :) Write a funtion called calculate_magda_metric(arr) that takes as input a matrix and computes magda_metric which is the mean of the values in the first column multiplied by the sum of the values in the last row. For example, magda_metric for the following matrix: [[1,2], [3,5]] should be equal ((1+3)/2 * (3+5)) = 2*8 = 16 . If you know how - make sure this function doesn't break if the input matrix has only one row :)"
   ]
  },
  {
   "cell_type": "code",
   "execution_count": 1,
   "metadata": {},
   "outputs": [],
   "source": [
    "import re\n",
    "import numpy as np\n",
    "import datetime\n",
    "import numpy as np\n",
    "\n",
    "    \n",
    "def check_funcion(fun):\n",
    "    test_list = [np.array([[1,2], [3,5]]), np.ones((100,100))]\n",
    "    NoneType = type(None)\n",
    "    if isinstance(fun(test_list[1]), NoneType):\n",
    "        return \"You return 'None', try again!\"\n",
    "    else:\n",
    "        outputs = [16.0, 100.0]\n",
    "        results = []\n",
    "    for i in range(len(test_list)):\n",
    "        outp_func = fun(test_list[i])\n",
    "        results.append(outp_func == outputs[i])\n",
    "    if all(results):\n",
    "        return \"Congrats, you passed the task! Submit it and see you tomorrow!\"\n",
    "    else:\n",
    "        return \"Try again, something is still not OK!\"\n",
    "\n"
   ]
  },
  {
   "cell_type": "code",
   "execution_count": 9,
   "metadata": {},
   "outputs": [
    {
     "name": "stdout",
     "output_type": "stream",
     "text": [
      "Congrats, you passed the task! Submit it and see you tomorrow!\n",
      "\n",
      " 16.0\n"
     ]
    }
   ],
   "source": [
    "# from test_your_code import check_funcion\n",
    "import numpy as np\n",
    "\n",
    "def calculate_magda_metric(arr):\n",
    "  \n",
    "  # YOUR CODE GOES HERE\n",
    "    arr_shape = arr.shape[0]\n",
    "  \n",
    "    try:\n",
    "        arr.shape[1]\n",
    "    except IndexError:\n",
    "        arr_shape = 1\n",
    "    \n",
    "    avg = []\n",
    "    i = 0\n",
    "    while i<arr_shape:\n",
    "        avg.append(arr[i,0])\n",
    "        i+=1\n",
    "  \n",
    "    total = np.array(arr[-1]).sum()\n",
    "    avg = np.array(avg).mean()\n",
    "  \n",
    "    return total*avg\n",
    "\n",
    "print(check_funcion(calculate_magda_metric))\n",
    "test_list = [np.array([[1,2], [3,5]]), np.ones((100,100))]\n",
    "print('\\n',calculate_magda_metric(np.array([[1,2], [3,5]])))"
   ]
  },
  {
   "cell_type": "code",
   "execution_count": null,
   "metadata": {},
   "outputs": [],
   "source": []
  }
 ],
 "metadata": {
  "kernelspec": {
   "display_name": "Python 3",
   "language": "python",
   "name": "python3"
  },
  "language_info": {
   "codemirror_mode": {
    "name": "ipython",
    "version": 3
   },
   "file_extension": ".py",
   "mimetype": "text/x-python",
   "name": "python",
   "nbconvert_exporter": "python",
   "pygments_lexer": "ipython3",
   "version": "3.7.6"
  }
 },
 "nbformat": 4,
 "nbformat_minor": 4
}
